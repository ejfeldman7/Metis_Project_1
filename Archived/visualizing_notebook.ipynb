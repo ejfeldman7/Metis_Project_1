{
 "cells": [
  {
   "cell_type": "code",
   "execution_count": 1,
   "metadata": {},
   "outputs": [],
   "source": [
    "import pandas as pd\n",
    "import numpy as np"
   ]
  },
  {
   "cell_type": "code",
   "execution_count": 101,
   "metadata": {},
   "outputs": [],
   "source": [
    "df1 = pd.read_csv('http://web.mta.info/developers/data/nyct/turnstile/turnstile_190504.txt')\n",
    "df2 = pd.read_csv('http://web.mta.info/developers/data/nyct/turnstile/turnstile_190511.txt')\n",
    "df3 = pd.read_csv('http://web.mta.info/developers/data/nyct/turnstile/turnstile_190518.txt')\n",
    "df4 = pd.read_csv('http://web.mta.info/developers/data/nyct/turnstile/turnstile_190525.txt')\n",
    "df5 = pd.read_csv('http://web.mta.info/developers/data/nyct/turnstile/turnstile_190601.txt')"
   ]
  },
  {
   "cell_type": "code",
   "execution_count": 25,
   "metadata": {},
   "outputs": [
    {
     "ename": "IndentationError",
     "evalue": "unexpected indent (<ipython-input-25-511256c6ec88>, line 23)",
     "output_type": "error",
     "traceback": [
      "\u001b[1;36m  File \u001b[1;32m\"<ipython-input-25-511256c6ec88>\"\u001b[1;36m, line \u001b[1;32m23\u001b[0m\n\u001b[1;33m    return df\u001b[0m\n\u001b[1;37m    ^\u001b[0m\n\u001b[1;31mIndentationError\u001b[0m\u001b[1;31m:\u001b[0m unexpected indent\n"
     ]
    }
   ],
   "source": [
    "#Convert Date and Time into a more useable DateTime format.\n",
    "def df_DateTime(df):\n",
    "    df['DateTime'] = pd.to_datetime(df.DATE+' '+df.TIME)\n",
    "    return df\n",
    "\n",
    "#Record what day of the week each entry is from\n",
    "def df_day_of_week(df):\n",
    "    df['Day']=df.DateTime.dt.day_name()\n",
    "    return df\n",
    "\n",
    "#SCP represents a specific turnstile.\n",
    "#C/A represents a control area. This is a bank of turnstiles.  \n",
    "#Unit represents a remote unit. Usually a whole station, or an area in a complex station.\n",
    "#We can combine all three to create a unique ID for any turnstile\n",
    "def df_Unit_ID(df):\n",
    "    df['Unit_ID'] = df.SCP+' '+df['C/A']+' '+df.UNIT\n",
    "    return df\n",
    "\n",
    "#Rename Exits column to remove extra spaces\n",
    "def rename_columns(df):\n",
    "    df.rename(columns={'EXITS                                                               ':'EXITS'},inplace=True)\n",
    "    return df\n",
    "\n",
    "#Remove irregularities in reporting\n",
    "def clean_desc(df):\n",
    "    df = df[df.DESC == 'REGULAR']\n",
    "    return df\n",
    "\n",
    "#Calculate the entries/exits in a four hour period by finding the difference between rows\n",
    "def df_four_hour(df):\n",
    "    df['Four Hour Entries'] = df.groupby('Unit_ID').ENTRIES.diff()\n",
    "    df['Four Hour Exits'] = df.groupby('Unit_ID').EXITS.diff()\n",
    "    return df\n",
    "\n",
    "#Replace NaN, negative values, and impossibly large values by the average of the turnstile\n",
    "def df_clean_four_hour(df):\n",
    "    df['Four Hour Entries'].fillna(-1, inplace=True)\n",
    "    df['Four Hour Exits'].fillna(-1, inplace=True)\n",
    "    df['Four Hour Entries'] = df.groupby(['TIME','C/A'])['Four Hour Entries'].transform(\n",
    "        lambda x: np.where((x<0)|(x>20000),x.mask((x<0)|(x>20000)).mean(),x))\n",
    "    df['Four Hour Exits'] = df.groupby(['TIME','C/A'])['Four Hour Exits'].transform(\n",
    "        lambda x: np.where((x<0)|(x>20000),x.mask((x<0)|(x>20000)).mean(),x))\n",
    "    return df\n",
    "\n",
    "#Create a column for the total amount of traffic through a turnstile\n",
    "def df_total_flow(df):\n",
    "    df['Total Flow'] = df['Four Hour Entries']+df['Four Hour Exits']\n",
    "    return df"
   ]
  },
  {
   "cell_type": "code",
   "execution_count": 104,
   "metadata": {},
   "outputs": [],
   "source": [
    "df1 = df_DateTime(df1)\n",
    "df1 = df_day_of_week(df1)\n",
    "df1 = df_Unit_ID(df1)\n",
    "df1 = rename_columns(df1)\n",
    "df1 = df_four_hour(df1)\n",
    "df1 = df_clean_four_hour(df1)\n",
    "df1 = clean_desc(df1)\n",
    "\n",
    "df2 = df_DateTime(df2)\n",
    "df2 = df_day_of_week(df2)\n",
    "df2 = df_Unit_ID(df2)\n",
    "df2 = rename_columns(df2)\n",
    "df2 = df_four_hour(df2)\n",
    "df2 = df_clean_four_hour(df2)\n",
    "df2 = clean_desc(df2)\n",
    "\n",
    "df3 = df_DateTime(df3)\n",
    "df3 = df_day_of_week(df3)\n",
    "df3 = df_Unit_ID(df3)\n",
    "df3 = rename_columns(df3)\n",
    "df3 = df_four_hour(df3)\n",
    "df3 = df_clean_four_hour(df3)\n",
    "df3 = clean_desc(df3)\n",
    "\n",
    "df4 = df_DateTime(df4)\n",
    "df4 = df_day_of_week(df4)\n",
    "df4 = df_Unit_ID(df4)\n",
    "df4 = rename_columns(df4)\n",
    "df4 = df_four_hour(df4)\n",
    "df4 = df_clean_four_hour(df4)\n",
    "df4 = clean_desc(df4)\n",
    "\n",
    "df5 = df_DateTime(df5)\n",
    "df5 = df_day_of_week(df5)\n",
    "df5 = df_Unit_ID(df5)\n",
    "df5 = rename_columns(df5)\n",
    "df5 = df_four_hour(df5)\n",
    "df5 = df_clean_four_hour(df5)\n",
    "df5 = clean_desc(df5)"
   ]
  },
  {
   "cell_type": "code",
   "execution_count": 106,
   "metadata": {},
   "outputs": [],
   "source": [
    "df1 = df_total_flow(df1)\n",
    "df2 = df_total_flow(df2)\n",
    "df3 = df_total_flow(df3)\n",
    "df4 = df_total_flow(df4)\n",
    "df5 = df_total_flow(df5)"
   ]
  },
  {
   "cell_type": "code",
   "execution_count": 26,
   "metadata": {},
   "outputs": [
    {
     "name": "stderr",
     "output_type": "stream",
     "text": [
      "<ipython-input-26-9aec250956d1>:2: FutureWarning: Indexing with multiple keys (implicitly converted to a tuple of keys) will be deprecated, use a list instead.\n",
      "  df1_daily = df1.groupby(['STATION','DATE'])['Day','Four Hour Entries','Four Hour Exits','Total Flow'].sum()\n"
     ]
    },
    {
     "data": {
      "text/html": [
       "<div>\n",
       "<style scoped>\n",
       "    .dataframe tbody tr th:only-of-type {\n",
       "        vertical-align: middle;\n",
       "    }\n",
       "\n",
       "    .dataframe tbody tr th {\n",
       "        vertical-align: top;\n",
       "    }\n",
       "\n",
       "    .dataframe thead th {\n",
       "        text-align: right;\n",
       "    }\n",
       "</style>\n",
       "<table border=\"1\" class=\"dataframe\">\n",
       "  <thead>\n",
       "    <tr style=\"text-align: right;\">\n",
       "      <th></th>\n",
       "      <th></th>\n",
       "      <th>Four Hour Entries</th>\n",
       "      <th>Four Hour Exits</th>\n",
       "      <th>Total Flow</th>\n",
       "    </tr>\n",
       "    <tr>\n",
       "      <th>STATION</th>\n",
       "      <th>DATE</th>\n",
       "      <th></th>\n",
       "      <th></th>\n",
       "      <th></th>\n",
       "    </tr>\n",
       "  </thead>\n",
       "  <tbody>\n",
       "    <tr>\n",
       "      <th rowspan=\"7\" valign=\"top\">1 AV</th>\n",
       "      <th>04/27/2019</th>\n",
       "      <td>6611.333333</td>\n",
       "      <td>9176.666667</td>\n",
       "      <td>15788.0</td>\n",
       "    </tr>\n",
       "    <tr>\n",
       "      <th>04/28/2019</th>\n",
       "      <td>5205.000000</td>\n",
       "      <td>7239.000000</td>\n",
       "      <td>12444.0</td>\n",
       "    </tr>\n",
       "    <tr>\n",
       "      <th>04/29/2019</th>\n",
       "      <td>17134.000000</td>\n",
       "      <td>19320.000000</td>\n",
       "      <td>36454.0</td>\n",
       "    </tr>\n",
       "    <tr>\n",
       "      <th>04/30/2019</th>\n",
       "      <td>18588.000000</td>\n",
       "      <td>20421.000000</td>\n",
       "      <td>39009.0</td>\n",
       "    </tr>\n",
       "    <tr>\n",
       "      <th>05/01/2019</th>\n",
       "      <td>19221.000000</td>\n",
       "      <td>21124.000000</td>\n",
       "      <td>40345.0</td>\n",
       "    </tr>\n",
       "    <tr>\n",
       "      <th>05/02/2019</th>\n",
       "      <td>19406.000000</td>\n",
       "      <td>21335.000000</td>\n",
       "      <td>40741.0</td>\n",
       "    </tr>\n",
       "    <tr>\n",
       "      <th>05/03/2019</th>\n",
       "      <td>19732.000000</td>\n",
       "      <td>22665.000000</td>\n",
       "      <td>42397.0</td>\n",
       "    </tr>\n",
       "    <tr>\n",
       "      <th rowspan=\"7\" valign=\"top\">103 ST</th>\n",
       "      <th>04/27/2019</th>\n",
       "      <td>19351.000000</td>\n",
       "      <td>13987.000000</td>\n",
       "      <td>33338.0</td>\n",
       "    </tr>\n",
       "    <tr>\n",
       "      <th>04/28/2019</th>\n",
       "      <td>15913.000000</td>\n",
       "      <td>12349.000000</td>\n",
       "      <td>28262.0</td>\n",
       "    </tr>\n",
       "    <tr>\n",
       "      <th>04/29/2019</th>\n",
       "      <td>30243.000000</td>\n",
       "      <td>21166.000000</td>\n",
       "      <td>51409.0</td>\n",
       "    </tr>\n",
       "    <tr>\n",
       "      <th>04/30/2019</th>\n",
       "      <td>32303.000000</td>\n",
       "      <td>21440.000000</td>\n",
       "      <td>53743.0</td>\n",
       "    </tr>\n",
       "    <tr>\n",
       "      <th>05/01/2019</th>\n",
       "      <td>32706.000000</td>\n",
       "      <td>22290.000000</td>\n",
       "      <td>54996.0</td>\n",
       "    </tr>\n",
       "    <tr>\n",
       "      <th>05/02/2019</th>\n",
       "      <td>32849.000000</td>\n",
       "      <td>22354.000000</td>\n",
       "      <td>55203.0</td>\n",
       "    </tr>\n",
       "    <tr>\n",
       "      <th>05/03/2019</th>\n",
       "      <td>32740.000000</td>\n",
       "      <td>21646.000000</td>\n",
       "      <td>54386.0</td>\n",
       "    </tr>\n",
       "    <tr>\n",
       "      <th rowspan=\"6\" valign=\"top\">103 ST-CORONA</th>\n",
       "      <th>04/27/2019</th>\n",
       "      <td>14378.000000</td>\n",
       "      <td>11945.500000</td>\n",
       "      <td>26323.5</td>\n",
       "    </tr>\n",
       "    <tr>\n",
       "      <th>04/28/2019</th>\n",
       "      <td>11415.000000</td>\n",
       "      <td>10283.000000</td>\n",
       "      <td>21698.0</td>\n",
       "    </tr>\n",
       "    <tr>\n",
       "      <th>04/29/2019</th>\n",
       "      <td>19903.000000</td>\n",
       "      <td>12769.000000</td>\n",
       "      <td>32672.0</td>\n",
       "    </tr>\n",
       "    <tr>\n",
       "      <th>04/30/2019</th>\n",
       "      <td>19854.000000</td>\n",
       "      <td>14780.000000</td>\n",
       "      <td>34634.0</td>\n",
       "    </tr>\n",
       "    <tr>\n",
       "      <th>05/01/2019</th>\n",
       "      <td>20265.000000</td>\n",
       "      <td>13799.000000</td>\n",
       "      <td>34064.0</td>\n",
       "    </tr>\n",
       "    <tr>\n",
       "      <th>05/02/2019</th>\n",
       "      <td>20693.000000</td>\n",
       "      <td>14936.000000</td>\n",
       "      <td>35629.0</td>\n",
       "    </tr>\n",
       "  </tbody>\n",
       "</table>\n",
       "</div>"
      ],
      "text/plain": [
       "                          Four Hour Entries  Four Hour Exits  Total Flow\n",
       "STATION       DATE                                                      \n",
       "1 AV          04/27/2019        6611.333333      9176.666667     15788.0\n",
       "              04/28/2019        5205.000000      7239.000000     12444.0\n",
       "              04/29/2019       17134.000000     19320.000000     36454.0\n",
       "              04/30/2019       18588.000000     20421.000000     39009.0\n",
       "              05/01/2019       19221.000000     21124.000000     40345.0\n",
       "              05/02/2019       19406.000000     21335.000000     40741.0\n",
       "              05/03/2019       19732.000000     22665.000000     42397.0\n",
       "103 ST        04/27/2019       19351.000000     13987.000000     33338.0\n",
       "              04/28/2019       15913.000000     12349.000000     28262.0\n",
       "              04/29/2019       30243.000000     21166.000000     51409.0\n",
       "              04/30/2019       32303.000000     21440.000000     53743.0\n",
       "              05/01/2019       32706.000000     22290.000000     54996.0\n",
       "              05/02/2019       32849.000000     22354.000000     55203.0\n",
       "              05/03/2019       32740.000000     21646.000000     54386.0\n",
       "103 ST-CORONA 04/27/2019       14378.000000     11945.500000     26323.5\n",
       "              04/28/2019       11415.000000     10283.000000     21698.0\n",
       "              04/29/2019       19903.000000     12769.000000     32672.0\n",
       "              04/30/2019       19854.000000     14780.000000     34634.0\n",
       "              05/01/2019       20265.000000     13799.000000     34064.0\n",
       "              05/02/2019       20693.000000     14936.000000     35629.0"
      ]
     },
     "execution_count": 26,
     "metadata": {},
     "output_type": "execute_result"
    }
   ],
   "source": [
    "#Find daily sum for each STATION for each day of the week\n",
    "df1_daily = df1.groupby(['STATION','DATE'])['Four Hour Entries','Four Hour Exits','Total Flow'].sum()\n",
    "df1_daily.head(20)"
   ]
  },
  {
   "cell_type": "code",
   "execution_count": 67,
   "metadata": {},
   "outputs": [
    {
     "data": {
      "text/html": [
       "<div>\n",
       "<style scoped>\n",
       "    .dataframe tbody tr th:only-of-type {\n",
       "        vertical-align: middle;\n",
       "    }\n",
       "\n",
       "    .dataframe tbody tr th {\n",
       "        vertical-align: top;\n",
       "    }\n",
       "\n",
       "    .dataframe thead th {\n",
       "        text-align: right;\n",
       "    }\n",
       "</style>\n",
       "<table border=\"1\" class=\"dataframe\">\n",
       "  <thead>\n",
       "    <tr style=\"text-align: right;\">\n",
       "      <th></th>\n",
       "      <th></th>\n",
       "      <th>Four Hour Entries</th>\n",
       "      <th>Four Hour Exits</th>\n",
       "      <th>Total Flow</th>\n",
       "    </tr>\n",
       "    <tr>\n",
       "      <th>STATION</th>\n",
       "      <th>DATE</th>\n",
       "      <th></th>\n",
       "      <th></th>\n",
       "      <th></th>\n",
       "    </tr>\n",
       "  </thead>\n",
       "  <tbody>\n",
       "    <tr>\n",
       "      <th rowspan=\"5\" valign=\"top\">34 ST-PENN STA</th>\n",
       "      <th>05/02/2019</th>\n",
       "      <td>177841.476190</td>\n",
       "      <td>160361.410714</td>\n",
       "      <td>338202.886905</td>\n",
       "    </tr>\n",
       "    <tr>\n",
       "      <th>05/01/2019</th>\n",
       "      <td>177733.476190</td>\n",
       "      <td>159379.410714</td>\n",
       "      <td>337112.886905</td>\n",
       "    </tr>\n",
       "    <tr>\n",
       "      <th>05/03/2019</th>\n",
       "      <td>169801.476190</td>\n",
       "      <td>158841.410714</td>\n",
       "      <td>328642.886905</td>\n",
       "    </tr>\n",
       "    <tr>\n",
       "      <th>04/30/2019</th>\n",
       "      <td>174815.476190</td>\n",
       "      <td>153589.410714</td>\n",
       "      <td>328404.886905</td>\n",
       "    </tr>\n",
       "    <tr>\n",
       "      <th>04/29/2019</th>\n",
       "      <td>169283.913690</td>\n",
       "      <td>146943.098214</td>\n",
       "      <td>316227.011905</td>\n",
       "    </tr>\n",
       "    <tr>\n",
       "      <th rowspan=\"5\" valign=\"top\">GRD CNTRL-42 ST</th>\n",
       "      <th>05/01/2019</th>\n",
       "      <td>165304.071340</td>\n",
       "      <td>141747.924143</td>\n",
       "      <td>307051.995483</td>\n",
       "    </tr>\n",
       "    <tr>\n",
       "      <th>05/02/2019</th>\n",
       "      <td>163527.355124</td>\n",
       "      <td>142631.302521</td>\n",
       "      <td>306158.657645</td>\n",
       "    </tr>\n",
       "    <tr>\n",
       "      <th>04/30/2019</th>\n",
       "      <td>162523.355124</td>\n",
       "      <td>139958.302521</td>\n",
       "      <td>302481.657645</td>\n",
       "    </tr>\n",
       "    <tr>\n",
       "      <th>05/03/2019</th>\n",
       "      <td>156925.355124</td>\n",
       "      <td>136269.949580</td>\n",
       "      <td>293195.304704</td>\n",
       "    </tr>\n",
       "    <tr>\n",
       "      <th>04/29/2019</th>\n",
       "      <td>150529.258633</td>\n",
       "      <td>132881.184874</td>\n",
       "      <td>283410.443507</td>\n",
       "    </tr>\n",
       "    <tr>\n",
       "      <th rowspan=\"5\" valign=\"top\">34 ST-HERALD SQ</th>\n",
       "      <th>05/03/2019</th>\n",
       "      <td>125888.987302</td>\n",
       "      <td>117832.000000</td>\n",
       "      <td>243720.987302</td>\n",
       "    </tr>\n",
       "    <tr>\n",
       "      <th>05/02/2019</th>\n",
       "      <td>124792.653968</td>\n",
       "      <td>118410.000000</td>\n",
       "      <td>243202.653968</td>\n",
       "    </tr>\n",
       "    <tr>\n",
       "      <th>05/01/2019</th>\n",
       "      <td>124479.987302</td>\n",
       "      <td>116378.000000</td>\n",
       "      <td>240857.987302</td>\n",
       "    </tr>\n",
       "    <tr>\n",
       "      <th>04/30/2019</th>\n",
       "      <td>121956.987302</td>\n",
       "      <td>112160.000000</td>\n",
       "      <td>234116.987302</td>\n",
       "    </tr>\n",
       "    <tr>\n",
       "      <th>04/29/2019</th>\n",
       "      <td>113923.765079</td>\n",
       "      <td>106299.000000</td>\n",
       "      <td>220222.765079</td>\n",
       "    </tr>\n",
       "    <tr>\n",
       "      <th rowspan=\"2\" valign=\"top\">14 ST-UNION SQ</th>\n",
       "      <th>05/02/2019</th>\n",
       "      <td>116460.000000</td>\n",
       "      <td>101153.000000</td>\n",
       "      <td>217613.000000</td>\n",
       "    </tr>\n",
       "    <tr>\n",
       "      <th>05/03/2019</th>\n",
       "      <td>109138.000000</td>\n",
       "      <td>101029.000000</td>\n",
       "      <td>210167.000000</td>\n",
       "    </tr>\n",
       "    <tr>\n",
       "      <th>TIMES SQ-42 ST</th>\n",
       "      <th>05/01/2019</th>\n",
       "      <td>108617.680272</td>\n",
       "      <td>97424.000000</td>\n",
       "      <td>206041.680272</td>\n",
       "    </tr>\n",
       "    <tr>\n",
       "      <th>14 ST-UNION SQ</th>\n",
       "      <th>04/30/2019</th>\n",
       "      <td>105320.000000</td>\n",
       "      <td>99042.000000</td>\n",
       "      <td>204362.000000</td>\n",
       "    </tr>\n",
       "    <tr>\n",
       "      <th rowspan=\"2\" valign=\"top\">TIMES SQ-42 ST</th>\n",
       "      <th>05/02/2019</th>\n",
       "      <td>106554.680272</td>\n",
       "      <td>97725.000000</td>\n",
       "      <td>204279.680272</td>\n",
       "    </tr>\n",
       "    <tr>\n",
       "      <th>05/03/2019</th>\n",
       "      <td>106188.680272</td>\n",
       "      <td>97400.000000</td>\n",
       "      <td>203588.680272</td>\n",
       "    </tr>\n",
       "    <tr>\n",
       "      <th>14 ST-UNION SQ</th>\n",
       "      <th>05/01/2019</th>\n",
       "      <td>102808.000000</td>\n",
       "      <td>100222.000000</td>\n",
       "      <td>203030.000000</td>\n",
       "    </tr>\n",
       "    <tr>\n",
       "      <th>23 ST</th>\n",
       "      <th>05/01/2019</th>\n",
       "      <td>119121.000000</td>\n",
       "      <td>81053.000000</td>\n",
       "      <td>200174.000000</td>\n",
       "    </tr>\n",
       "    <tr>\n",
       "      <th rowspan=\"2\" valign=\"top\">FULTON ST</th>\n",
       "      <th>05/02/2019</th>\n",
       "      <td>107693.000000</td>\n",
       "      <td>89805.000000</td>\n",
       "      <td>197498.000000</td>\n",
       "    </tr>\n",
       "    <tr>\n",
       "      <th>05/01/2019</th>\n",
       "      <td>107041.000000</td>\n",
       "      <td>89351.000000</td>\n",
       "      <td>196392.000000</td>\n",
       "    </tr>\n",
       "    <tr>\n",
       "      <th>23 ST</th>\n",
       "      <th>05/02/2019</th>\n",
       "      <td>115025.000000</td>\n",
       "      <td>81153.000000</td>\n",
       "      <td>196178.000000</td>\n",
       "    </tr>\n",
       "    <tr>\n",
       "      <th>TIMES SQ-42 ST</th>\n",
       "      <th>04/30/2019</th>\n",
       "      <td>99265.680272</td>\n",
       "      <td>95438.000000</td>\n",
       "      <td>194703.680272</td>\n",
       "    </tr>\n",
       "    <tr>\n",
       "      <th rowspan=\"2\" valign=\"top\">23 ST</th>\n",
       "      <th>04/30/2019</th>\n",
       "      <td>114729.000000</td>\n",
       "      <td>79820.000000</td>\n",
       "      <td>194549.000000</td>\n",
       "    </tr>\n",
       "    <tr>\n",
       "      <th>04/29/2019</th>\n",
       "      <td>108906.700000</td>\n",
       "      <td>85045.000000</td>\n",
       "      <td>193951.700000</td>\n",
       "    </tr>\n",
       "    <tr>\n",
       "      <th>14 ST-UNION SQ</th>\n",
       "      <th>04/29/2019</th>\n",
       "      <td>98367.000000</td>\n",
       "      <td>93882.000000</td>\n",
       "      <td>192249.000000</td>\n",
       "    </tr>\n",
       "    <tr>\n",
       "      <th>23 ST</th>\n",
       "      <th>05/03/2019</th>\n",
       "      <td>112981.000000</td>\n",
       "      <td>76326.000000</td>\n",
       "      <td>189307.000000</td>\n",
       "    </tr>\n",
       "    <tr>\n",
       "      <th>34 ST-PENN STA</th>\n",
       "      <th>04/27/2019</th>\n",
       "      <td>93953.886905</td>\n",
       "      <td>94933.214286</td>\n",
       "      <td>188887.101190</td>\n",
       "    </tr>\n",
       "    <tr>\n",
       "      <th>42 ST-PORT AUTH</th>\n",
       "      <th>05/03/2019</th>\n",
       "      <td>102202.380952</td>\n",
       "      <td>85064.568783</td>\n",
       "      <td>187266.949735</td>\n",
       "    </tr>\n",
       "    <tr>\n",
       "      <th rowspan=\"2\" valign=\"top\">FULTON ST</th>\n",
       "      <th>05/03/2019</th>\n",
       "      <td>102931.000000</td>\n",
       "      <td>84287.000000</td>\n",
       "      <td>187218.000000</td>\n",
       "    </tr>\n",
       "    <tr>\n",
       "      <th>04/30/2019</th>\n",
       "      <td>100822.000000</td>\n",
       "      <td>84903.000000</td>\n",
       "      <td>185725.000000</td>\n",
       "    </tr>\n",
       "    <tr>\n",
       "      <th rowspan=\"2\" valign=\"top\">42 ST-PORT AUTH</th>\n",
       "      <th>05/01/2019</th>\n",
       "      <td>102406.380952</td>\n",
       "      <td>83130.124339</td>\n",
       "      <td>185536.505291</td>\n",
       "    </tr>\n",
       "    <tr>\n",
       "      <th>05/02/2019</th>\n",
       "      <td>102638.714286</td>\n",
       "      <td>82693.235450</td>\n",
       "      <td>185331.949735</td>\n",
       "    </tr>\n",
       "    <tr>\n",
       "      <th>TIMES SQ-42 ST</th>\n",
       "      <th>04/29/2019</th>\n",
       "      <td>95418.680272</td>\n",
       "      <td>87906.000000</td>\n",
       "      <td>183324.680272</td>\n",
       "    </tr>\n",
       "    <tr>\n",
       "      <th>FULTON ST</th>\n",
       "      <th>04/29/2019</th>\n",
       "      <td>98773.000000</td>\n",
       "      <td>83385.000000</td>\n",
       "      <td>182158.000000</td>\n",
       "    </tr>\n",
       "    <tr>\n",
       "      <th>42 ST-PORT AUTH</th>\n",
       "      <th>04/30/2019</th>\n",
       "      <td>99421.047619</td>\n",
       "      <td>79639.124339</td>\n",
       "      <td>179060.171958</td>\n",
       "    </tr>\n",
       "    <tr>\n",
       "      <th rowspan=\"2\" valign=\"top\">86 ST</th>\n",
       "      <th>05/01/2019</th>\n",
       "      <td>90840.082251</td>\n",
       "      <td>85675.381914</td>\n",
       "      <td>176515.464165</td>\n",
       "    </tr>\n",
       "    <tr>\n",
       "      <th>05/03/2019</th>\n",
       "      <td>90156.264069</td>\n",
       "      <td>85411.179894</td>\n",
       "      <td>175567.443963</td>\n",
       "    </tr>\n",
       "    <tr>\n",
       "      <th>42 ST-PORT AUTH</th>\n",
       "      <th>04/29/2019</th>\n",
       "      <td>98399.047619</td>\n",
       "      <td>76221.235450</td>\n",
       "      <td>174620.283069</td>\n",
       "    </tr>\n",
       "    <tr>\n",
       "      <th rowspan=\"2\" valign=\"top\">86 ST</th>\n",
       "      <th>05/02/2019</th>\n",
       "      <td>90350.264069</td>\n",
       "      <td>83588.624339</td>\n",
       "      <td>173938.888408</td>\n",
       "    </tr>\n",
       "    <tr>\n",
       "      <th>04/30/2019</th>\n",
       "      <td>90173.478146</td>\n",
       "      <td>82065.748483</td>\n",
       "      <td>172239.226629</td>\n",
       "    </tr>\n",
       "    <tr>\n",
       "      <th>34 ST-PENN STA</th>\n",
       "      <th>04/28/2019</th>\n",
       "      <td>90368.476190</td>\n",
       "      <td>79483.410714</td>\n",
       "      <td>169851.886905</td>\n",
       "    </tr>\n",
       "    <tr>\n",
       "      <th>86 ST</th>\n",
       "      <th>04/29/2019</th>\n",
       "      <td>82854.264069</td>\n",
       "      <td>76346.291005</td>\n",
       "      <td>159200.555075</td>\n",
       "    </tr>\n",
       "    <tr>\n",
       "      <th>CANAL ST</th>\n",
       "      <th>04/30/2019</th>\n",
       "      <td>81614.607143</td>\n",
       "      <td>68150.000000</td>\n",
       "      <td>149764.607143</td>\n",
       "    </tr>\n",
       "    <tr>\n",
       "      <th rowspan=\"3\" valign=\"top\">125 ST</th>\n",
       "      <th>05/02/2019</th>\n",
       "      <td>83020.334737</td>\n",
       "      <td>66352.000000</td>\n",
       "      <td>149372.334737</td>\n",
       "    </tr>\n",
       "    <tr>\n",
       "      <th>05/03/2019</th>\n",
       "      <td>82005.968926</td>\n",
       "      <td>67201.670103</td>\n",
       "      <td>149207.639029</td>\n",
       "    </tr>\n",
       "    <tr>\n",
       "      <th>05/01/2019</th>\n",
       "      <td>81671.007814</td>\n",
       "      <td>67466.000000</td>\n",
       "      <td>149137.007814</td>\n",
       "    </tr>\n",
       "    <tr>\n",
       "      <th>59 ST COLUMBUS</th>\n",
       "      <th>05/02/2019</th>\n",
       "      <td>81088.000000</td>\n",
       "      <td>66936.000000</td>\n",
       "      <td>148024.000000</td>\n",
       "    </tr>\n",
       "    <tr>\n",
       "      <th>34 ST-HERALD SQ</th>\n",
       "      <th>04/27/2019</th>\n",
       "      <td>77087.987302</td>\n",
       "      <td>70821.833333</td>\n",
       "      <td>147909.820635</td>\n",
       "    </tr>\n",
       "    <tr>\n",
       "      <th>59 ST COLUMBUS</th>\n",
       "      <th>05/01/2019</th>\n",
       "      <td>81986.000000</td>\n",
       "      <td>65087.000000</td>\n",
       "      <td>147073.000000</td>\n",
       "    </tr>\n",
       "    <tr>\n",
       "      <th>CANAL ST</th>\n",
       "      <th>05/03/2019</th>\n",
       "      <td>80049.607143</td>\n",
       "      <td>62330.000000</td>\n",
       "      <td>142379.607143</td>\n",
       "    </tr>\n",
       "    <tr>\n",
       "      <th>125 ST</th>\n",
       "      <th>04/30/2019</th>\n",
       "      <td>78827.007814</td>\n",
       "      <td>63378.000000</td>\n",
       "      <td>142205.007814</td>\n",
       "    </tr>\n",
       "    <tr>\n",
       "      <th>59 ST COLUMBUS</th>\n",
       "      <th>04/30/2019</th>\n",
       "      <td>77313.000000</td>\n",
       "      <td>63280.000000</td>\n",
       "      <td>140593.000000</td>\n",
       "    </tr>\n",
       "    <tr>\n",
       "      <th>14 ST-UNION SQ</th>\n",
       "      <th>04/27/2019</th>\n",
       "      <td>71521.940000</td>\n",
       "      <td>68846.360000</td>\n",
       "      <td>140368.300000</td>\n",
       "    </tr>\n",
       "    <tr>\n",
       "      <th>CANAL ST</th>\n",
       "      <th>05/02/2019</th>\n",
       "      <td>78856.607143</td>\n",
       "      <td>61000.000000</td>\n",
       "      <td>139856.607143</td>\n",
       "    </tr>\n",
       "    <tr>\n",
       "      <th>125 ST</th>\n",
       "      <th>04/29/2019</th>\n",
       "      <td>76270.007814</td>\n",
       "      <td>61019.000000</td>\n",
       "      <td>137289.007814</td>\n",
       "    </tr>\n",
       "  </tbody>\n",
       "</table>\n",
       "</div>"
      ],
      "text/plain": [
       "                            Four Hour Entries  Four Hour Exits     Total Flow\n",
       "STATION         DATE                                                         \n",
       "34 ST-PENN STA  05/02/2019      177841.476190    160361.410714  338202.886905\n",
       "                05/01/2019      177733.476190    159379.410714  337112.886905\n",
       "                05/03/2019      169801.476190    158841.410714  328642.886905\n",
       "                04/30/2019      174815.476190    153589.410714  328404.886905\n",
       "                04/29/2019      169283.913690    146943.098214  316227.011905\n",
       "GRD CNTRL-42 ST 05/01/2019      165304.071340    141747.924143  307051.995483\n",
       "                05/02/2019      163527.355124    142631.302521  306158.657645\n",
       "                04/30/2019      162523.355124    139958.302521  302481.657645\n",
       "                05/03/2019      156925.355124    136269.949580  293195.304704\n",
       "                04/29/2019      150529.258633    132881.184874  283410.443507\n",
       "34 ST-HERALD SQ 05/03/2019      125888.987302    117832.000000  243720.987302\n",
       "                05/02/2019      124792.653968    118410.000000  243202.653968\n",
       "                05/01/2019      124479.987302    116378.000000  240857.987302\n",
       "                04/30/2019      121956.987302    112160.000000  234116.987302\n",
       "                04/29/2019      113923.765079    106299.000000  220222.765079\n",
       "14 ST-UNION SQ  05/02/2019      116460.000000    101153.000000  217613.000000\n",
       "                05/03/2019      109138.000000    101029.000000  210167.000000\n",
       "TIMES SQ-42 ST  05/01/2019      108617.680272     97424.000000  206041.680272\n",
       "14 ST-UNION SQ  04/30/2019      105320.000000     99042.000000  204362.000000\n",
       "TIMES SQ-42 ST  05/02/2019      106554.680272     97725.000000  204279.680272\n",
       "                05/03/2019      106188.680272     97400.000000  203588.680272\n",
       "14 ST-UNION SQ  05/01/2019      102808.000000    100222.000000  203030.000000\n",
       "23 ST           05/01/2019      119121.000000     81053.000000  200174.000000\n",
       "FULTON ST       05/02/2019      107693.000000     89805.000000  197498.000000\n",
       "                05/01/2019      107041.000000     89351.000000  196392.000000\n",
       "23 ST           05/02/2019      115025.000000     81153.000000  196178.000000\n",
       "TIMES SQ-42 ST  04/30/2019       99265.680272     95438.000000  194703.680272\n",
       "23 ST           04/30/2019      114729.000000     79820.000000  194549.000000\n",
       "                04/29/2019      108906.700000     85045.000000  193951.700000\n",
       "14 ST-UNION SQ  04/29/2019       98367.000000     93882.000000  192249.000000\n",
       "23 ST           05/03/2019      112981.000000     76326.000000  189307.000000\n",
       "34 ST-PENN STA  04/27/2019       93953.886905     94933.214286  188887.101190\n",
       "42 ST-PORT AUTH 05/03/2019      102202.380952     85064.568783  187266.949735\n",
       "FULTON ST       05/03/2019      102931.000000     84287.000000  187218.000000\n",
       "                04/30/2019      100822.000000     84903.000000  185725.000000\n",
       "42 ST-PORT AUTH 05/01/2019      102406.380952     83130.124339  185536.505291\n",
       "                05/02/2019      102638.714286     82693.235450  185331.949735\n",
       "TIMES SQ-42 ST  04/29/2019       95418.680272     87906.000000  183324.680272\n",
       "FULTON ST       04/29/2019       98773.000000     83385.000000  182158.000000\n",
       "42 ST-PORT AUTH 04/30/2019       99421.047619     79639.124339  179060.171958\n",
       "86 ST           05/01/2019       90840.082251     85675.381914  176515.464165\n",
       "                05/03/2019       90156.264069     85411.179894  175567.443963\n",
       "42 ST-PORT AUTH 04/29/2019       98399.047619     76221.235450  174620.283069\n",
       "86 ST           05/02/2019       90350.264069     83588.624339  173938.888408\n",
       "                04/30/2019       90173.478146     82065.748483  172239.226629\n",
       "34 ST-PENN STA  04/28/2019       90368.476190     79483.410714  169851.886905\n",
       "86 ST           04/29/2019       82854.264069     76346.291005  159200.555075\n",
       "CANAL ST        04/30/2019       81614.607143     68150.000000  149764.607143\n",
       "125 ST          05/02/2019       83020.334737     66352.000000  149372.334737\n",
       "                05/03/2019       82005.968926     67201.670103  149207.639029\n",
       "                05/01/2019       81671.007814     67466.000000  149137.007814\n",
       "59 ST COLUMBUS  05/02/2019       81088.000000     66936.000000  148024.000000\n",
       "34 ST-HERALD SQ 04/27/2019       77087.987302     70821.833333  147909.820635\n",
       "59 ST COLUMBUS  05/01/2019       81986.000000     65087.000000  147073.000000\n",
       "CANAL ST        05/03/2019       80049.607143     62330.000000  142379.607143\n",
       "125 ST          04/30/2019       78827.007814     63378.000000  142205.007814\n",
       "59 ST COLUMBUS  04/30/2019       77313.000000     63280.000000  140593.000000\n",
       "14 ST-UNION SQ  04/27/2019       71521.940000     68846.360000  140368.300000\n",
       "CANAL ST        05/02/2019       78856.607143     61000.000000  139856.607143\n",
       "125 ST          04/29/2019       76270.007814     61019.000000  137289.007814"
      ]
     },
     "execution_count": 67,
     "metadata": {},
     "output_type": "execute_result"
    }
   ],
   "source": [
    "df1_daily.sort_values(by=['Total Flow'],ascending=False).head(60)"
   ]
  },
  {
   "cell_type": "code",
   "execution_count": 31,
   "metadata": {},
   "outputs": [],
   "source": [
    " %matplotlib inline\n",
    "import matplotlib.pyplot as plt"
   ]
  },
  {
   "cell_type": "code",
   "execution_count": 113,
   "metadata": {
    "scrolled": true
   },
   "outputs": [
    {
     "data": {
      "text/plain": [
       "<function matplotlib.pyplot.show(*args, **kw)>"
      ]
     },
     "execution_count": 113,
     "metadata": {},
     "output_type": "execute_result"
    },
    {
     "data": {
      "image/png": "[encoded data removed]",
      "text/plain": [
       "<Figure size 432x288 with 1 Axes>"
      ]
     },
     "metadata": {
      "needs_background": "light"
     },
     "output_type": "display_data"
    }
   ],
   "source": [
    "test1 = df1.loc[df1['Unit_ID']=='02-00-00 A002 R051'].groupby('DATE')['Total Flow'].sum()\n",
    "test1.plot(x='date', y='counts',kind=\"bar\")\n",
    "plt.show"
   ]
  },
  {
   "cell_type": "code",
   "execution_count": null,
   "metadata": {},
   "outputs": [],
   "source": []
  },
  {
   "cell_type": "code",
   "execution_count": 63,
   "metadata": {},
   "outputs": [
    {
     "data": {
      "text/plain": [
       "DATE        STATION          C/A    UNIT\n",
       "05/01/2019  PATH NEW WTC     PTH22  R540    125234.000000\n",
       "05/02/2019  PATH NEW WTC     PTH22  R540    124383.000000\n",
       "04/30/2019  PATH NEW WTC     PTH22  R540    119375.000000\n",
       "04/29/2019  PATH NEW WTC     PTH22  R540    115043.000000\n",
       "05/03/2019  PATH NEW WTC     PTH22  R540    109095.000000\n",
       "05/01/2019  GRD CNTRL-42 ST  R238   R046     98129.302521\n",
       "05/02/2019  GRD CNTRL-42 ST  R238   R046     96354.302521\n",
       "04/30/2019  GRD CNTRL-42 ST  R238   R046     95970.302521\n",
       "04/29/2019  GRD CNTRL-42 ST  R238   R046     90481.184874\n",
       "05/01/2019  34 ST-PENN STA   R138   R293     80707.886905\n",
       "05/02/2019  FLUSHING-MAIN    R533   R055     80398.000000\n",
       "            34 ST-PENN STA   R138   R293     79856.886905\n",
       "05/01/2019  FLUSHING-MAIN    R533   R055     79435.000000\n",
       "04/30/2019  FLUSHING-MAIN    R533   R055     79029.000000\n",
       "05/03/2019  FLUSHING-MAIN    R533   R055     78756.000000\n",
       "04/30/2019  34 ST-PENN STA   R138   R293     78640.886905\n",
       "05/03/2019  34 ST-PENN STA   R138   R293     77642.886905\n",
       "04/29/2019  34 ST-PENN STA   R138   R293     77303.011905\n",
       "            FLUSHING-MAIN    R533   R055     76059.000000\n",
       "05/03/2019  JKSN HT-ROOSVLT  N324   R018     69310.000000\n",
       "Name: Total Flow, dtype: float64"
      ]
     },
     "execution_count": 63,
     "metadata": {},
     "output_type": "execute_result"
    }
   ],
   "source": [
    "test2 = df1.groupby(['DATE','STATION','C/A','UNIT'])['Total Flow'].sum()\n",
    "test2.sort_values(ascending=False).head(20)"
   ]
  },
  {
   "cell_type": "code",
   "execution_count": 62,
   "metadata": {},
   "outputs": [
    {
     "data": {
      "text/plain": [
       "DATE        STATION        \n",
       "05/02/2019  34 ST-PENN STA     338202.886905\n",
       "05/01/2019  34 ST-PENN STA     337112.886905\n",
       "05/03/2019  34 ST-PENN STA     328642.886905\n",
       "04/30/2019  34 ST-PENN STA     328404.886905\n",
       "04/29/2019  34 ST-PENN STA     316227.011905\n",
       "05/01/2019  GRD CNTRL-42 ST    307051.995483\n",
       "05/02/2019  GRD CNTRL-42 ST    306158.657645\n",
       "04/30/2019  GRD CNTRL-42 ST    302481.657645\n",
       "05/03/2019  GRD CNTRL-42 ST    293195.304704\n",
       "04/29/2019  GRD CNTRL-42 ST    283410.443507\n",
       "05/03/2019  34 ST-HERALD SQ    243720.987302\n",
       "05/02/2019  34 ST-HERALD SQ    243202.653968\n",
       "05/01/2019  34 ST-HERALD SQ    240857.987302\n",
       "04/30/2019  34 ST-HERALD SQ    234116.987302\n",
       "04/29/2019  34 ST-HERALD SQ    220222.765079\n",
       "05/02/2019  14 ST-UNION SQ     217613.000000\n",
       "05/03/2019  14 ST-UNION SQ     210167.000000\n",
       "05/01/2019  TIMES SQ-42 ST     206041.680272\n",
       "04/30/2019  14 ST-UNION SQ     204362.000000\n",
       "05/02/2019  TIMES SQ-42 ST     204279.680272\n",
       "Name: Total Flow, dtype: float64"
      ]
     },
     "execution_count": 62,
     "metadata": {},
     "output_type": "execute_result"
    }
   ],
   "source": [
    "test3 = df1.groupby(['DATE','STATION'])['Total Flow'].sum()\n",
    "test3.sort_values(ascending=False).head(20)"
   ]
  },
  {
   "cell_type": "code",
   "execution_count": 91,
   "metadata": {},
   "outputs": [],
   "source": [
    "wtc_dts = df1.loc[df1['STATION']=='PATH NEW WTC'].groupby('Day')['Total Flow'].sum()"
   ]
  },
  {
   "cell_type": "code",
   "execution_count": null,
   "metadata": {},
   "outputs": [],
   "source": []
  },
  {
   "cell_type": "code",
   "execution_count": 99,
   "metadata": {},
   "outputs": [
    {
     "data": {
      "text/plain": [
       "<function matplotlib.pyplot.show(*args, **kw)>"
      ]
     },
     "execution_count": 99,
     "metadata": {},
     "output_type": "execute_result"
    },
    {
     "data": {
      "image/png": "[encoded data removed]",
      "text/plain": [
       "<Figure size 432x288 with 1 Axes>"
      ]
     },
     "metadata": {
      "needs_background": "light"
     },
     "output_type": "display_data"
    }
   ],
   "source": [
    "wtc_dts.plot(x='date',y='flow through',kind='bar')\n",
    "plt.show"
   ]
  },
  {
   "cell_type": "code",
   "execution_count": null,
   "metadata": {},
   "outputs": [],
   "source": []
  },
  {
   "cell_type": "code",
   "execution_count": 89,
   "metadata": {},
   "outputs": [
    {
     "data": {
      "text/plain": [
       "Day\n",
       "Friday       108148.0\n",
       "Monday       116461.0\n",
       "Saturday       4022.0\n",
       "Sunday         2509.0\n",
       "Thursday     120193.0\n",
       "Tuesday      120202.0\n",
       "Wednesday    122898.0\n",
       "Name: Total Flow, dtype: float64"
      ]
     },
     "execution_count": 89,
     "metadata": {},
     "output_type": "execute_result"
    }
   ],
   "source": [
    "wtc_dts2 = df2.loc[df2['STATION']=='PATH NEW WTC'].groupby('Day')['Total Flow'].sum()\n",
    "wtc_dts2"
   ]
  },
  {
   "cell_type": "code",
   "execution_count": 122,
   "metadata": {},
   "outputs": [
    {
     "data": {
      "text/plain": [
       "<function matplotlib.pyplot.show(*args, **kw)>"
      ]
     },
     "execution_count": 122,
     "metadata": {},
     "output_type": "execute_result"
    },
    {
     "data": {
      "image/png": "[encoded data removed]",
      "text/plain": [
       "<Figure size 432x288 with 1 Axes>"
      ]
     },
     "metadata": {
      "needs_background": "light"
     },
     "output_type": "display_data"
    }
   ],
   "source": [
    "wtc_dts2.plot(x='Day',y='Total Flow',kind='bar')\n",
    "plt.show"
   ]
  },
  {
   "cell_type": "code",
   "execution_count": 97,
   "metadata": {},
   "outputs": [],
   "source": [
    "import seaborn as sns"
   ]
  },
  {
   "cell_type": "code",
   "execution_count": 100,
   "metadata": {},
   "outputs": [
    {
     "data": {
      "image/png": "[encoded data removed]",
      "text/plain": [
       "<Figure size 432x288 with 1 Axes>"
      ]
     },
     "metadata": {
      "needs_background": "light"
     },
     "output_type": "display_data"
    }
   ],
   "source": [
    "barWidth = 0.25\n",
    " \n",
    "# set height of bar\n",
    "bars1 = wtc_dts\n",
    "bars2 = wtc_dts2\n",
    "\n",
    "# Set position of bar on X axis\n",
    "r1 = np.arange(len(bars1))\n",
    "r2 = [x + barWidth for x in r1]\n",
    "\n",
    " \n",
    "# Make the plot\n",
    "plt.bar(r1, bars1, color='#7f6d5f', width=barWidth, edgecolor='white', label='Week 1')\n",
    "plt.bar(r2, bars2, color='#557f2d', width=barWidth, edgecolor='white', label='Week 2')\n",
    " \n",
    "# Add xticks on the middle of the group bars\n",
    "plt.xlabel('Day', fontweight='bold')\n",
    "plt.xticks([r + barWidth for r in range(len(bars1))], ['Fri', 'Mon', 'Sat', 'Sun', 'Thur','Tues','Wed'])\n",
    " \n",
    "# Create legend & Show graphic\n",
    "plt.legend()\n",
    "plt.show()\n"
   ]
  },
  {
   "cell_type": "code",
   "execution_count": 93,
   "metadata": {},
   "outputs": [],
   "source": [
    "wtc_total = df.loc[df['STATION']=='PATH NEW WTC'].groupby('Day')['Total Flow'].sum()\n",
    "wtc_total"
   ]
  },
  {
   "cell_type": "code",
   "execution_count": 123,
   "metadata": {},
   "outputs": [],
   "source": [
    "#Find the daily time series for each of the five weeks for World Trade Center station\n",
    "wtc_dts1 = df1.loc[df1['STATION']=='PATH NEW WTC'].groupby('Day')['Total Flow'].sum()\n",
    "wtc_dts2 = df2.loc[df2['STATION']=='PATH NEW WTC'].groupby('Day')['Total Flow'].sum()\n",
    "wtc_dts3 = df3.loc[df3['STATION']=='PATH NEW WTC'].groupby('Day')['Total Flow'].sum()\n",
    "wtc_dts4 = df4.loc[df4['STATION']=='PATH NEW WTC'].groupby('Day')['Total Flow'].sum()\n",
    "wtc_dts5 = df5.loc[df5['STATION']=='PATH NEW WTC'].groupby('Day')['Total Flow'].sum()"
   ]
  },
  {
   "cell_type": "code",
   "execution_count": 124,
   "metadata": {},
   "outputs": [
    {
     "data": {
      "image/png": "[encoded data removed]",
      "text/plain": [
       "<Figure size 432x288 with 1 Axes>"
      ]
     },
     "metadata": {
      "needs_background": "light"
     },
     "output_type": "display_data"
    }
   ],
   "source": [
    "barWidth = 0.1\n",
    " \n",
    "# set height of bar\n",
    "bars1 = wtc_dts1\n",
    "bars2 = wtc_dts2\n",
    "bars3 = wtc_dts3\n",
    "bars4 = wtc_dts4\n",
    "bars5 = wtc_dts5\n",
    "\n",
    "\n",
    "# Set position of bar on X axis\n",
    "r1 = np.arange(len(bars1))\n",
    "r2 = [x + barWidth for x in r1]\n",
    "r3 = [x + barWidth for x in r2]\n",
    "r4 = [x + barWidth for x in r3]\n",
    "r5 = [x + barWidth for x in r4]\n",
    " \n",
    "# Make the plot\n",
    "plt.bar(r1, bars1, color='b', width=barWidth, edgecolor='white', label='Week 1')\n",
    "plt.bar(r2, bars2, color='g', width=barWidth, edgecolor='white', label='Week 2')\n",
    "plt.bar(r3, bars3, color='r', width=barWidth, edgecolor='white', label='Week 3')\n",
    "plt.bar(r4, bars4, color='c', width=barWidth, edgecolor='white', label='Week 4')\n",
    "plt.bar(r5, bars5, color='y', width=barWidth, edgecolor='white', label='Week 5')\n",
    "\n",
    " \n",
    "# Add xticks on the middle of the group bars\n",
    "plt.xlabel('Day', fontweight='bold')\n",
    "plt.xticks([r + barWidth for r in range(len(bars1))], ['Fri', 'Mon', 'Sat', 'Sun', 'Thur','Tues','Wed'])\n",
    " \n",
    "# Create legend & Show graphic\n",
    "plt.legend()\n",
    "plt.show()"
   ]
  },
  {
   "cell_type": "code",
   "execution_count": 125,
   "metadata": {},
   "outputs": [
    {
     "data": {
      "text/plain": [
       "[<matplotlib.lines.Line2D at 0x24fdcb39880>]"
      ]
     },
     "execution_count": 125,
     "metadata": {},
     "output_type": "execute_result"
    },
    {
     "data": {
      "image/png": "[encoded data removed]",
      "text/plain": [
       "<Figure size 432x288 with 1 Axes>"
      ]
     },
     "metadata": {
      "needs_background": "light"
     },
     "output_type": "display_data"
    }
   ],
   "source": [
    "plt.plot(wtc_dts1)\n",
    "plt.plot(wtc_dts2)\n",
    "plt.plot(wtc_dts3)\n",
    "plt.plot(wtc_dts4)\n",
    "plt.plot(wtc_dts5)"
   ]
  },
  {
   "cell_type": "code",
   "execution_count": 126,
   "metadata": {},
   "outputs": [
    {
     "data": {
      "text/plain": [
       "[<matplotlib.lines.Line2D at 0x24fe26b3070>]"
      ]
     },
     "execution_count": 126,
     "metadata": {},
     "output_type": "execute_result"
    },
    {
     "data": {
      "image/png": "[encoded data removed]",
      "text/plain": [
       "<Figure size 432x288 with 1 Axes>"
      ]
     },
     "metadata": {
      "needs_background": "light"
     },
     "output_type": "display_data"
    }
   ],
   "source": [
    "#Find the daily time series for each of the five weeks for Penn station\n",
    "penn_dts1 = df1.loc[df1['STATION']=='34 ST-PENN STA'].groupby('Day')['Total Flow'].sum()\n",
    "penn_dts2 = df2.loc[df2['STATION']=='34 ST-PENN STA'].groupby('Day')['Total Flow'].sum()\n",
    "penn_dts3 = df3.loc[df3['STATION']=='34 ST-PENN STA'].groupby('Day')['Total Flow'].sum()\n",
    "penn_dts4 = df4.loc[df4['STATION']=='34 ST-PENN STA'].groupby('Day')['Total Flow'].sum()\n",
    "penn_dts5 = df5.loc[df5['STATION']=='34 ST-PENN STA'].groupby('Day')['Total Flow'].sum()\n",
    "\n",
    "#Plot them\n",
    "plt.plot(penn_dts1)\n",
    "plt.plot(penn_dts2)\n",
    "plt.plot(penn_dts3)\n",
    "plt.plot(penn_dts4)\n",
    "plt.plot(penn_dts5)"
   ]
  },
  {
   "cell_type": "code",
   "execution_count": 128,
   "metadata": {},
   "outputs": [
    {
     "data": {
      "text/plain": [
       "STATION\n",
       "34 ST-PENN STA     188887.101190\n",
       "34 ST-HERALD SQ    147909.820635\n",
       "14 ST-UNION SQ     139801.852941\n",
       "TIMES SQ-42 ST     134782.180272\n",
       "42 ST-PORT AUTH    129456.671958\n",
       "GRD CNTRL-42 ST    126891.196346\n",
       "23 ST              116431.941822\n",
       "86 ST              105252.277297\n",
       "125 ST              99134.341148\n",
       "CANAL ST            95042.435702\n",
       "Name: Total Flow, dtype: float64"
      ]
     },
     "execution_count": 128,
     "metadata": {},
     "output_type": "execute_result"
    }
   ],
   "source": [
    "sat = df1.loc[df1['Day']=='Saturday'].groupby('STATION')['Total Flow'].sum()\n",
    "sat.sort_values(ascending=False).head(10)"
   ]
  },
  {
   "cell_type": "code",
   "execution_count": 129,
   "metadata": {},
   "outputs": [
    {
     "data": {
      "text/plain": [
       "STATION\n",
       "34 ST-PENN STA     169851.886905\n",
       "34 ST-HERALD SQ    118355.987302\n",
       "TIMES SQ-42 ST     115060.680272\n",
       "42 ST-PORT AUTH    112368.171958\n",
       "14 ST-UNION SQ     111143.000000\n",
       "GRD CNTRL-42 ST     94700.302521\n",
       "86 ST               87344.555075\n",
       "23 ST               87102.800000\n",
       "125 ST              85829.007814\n",
       "59 ST COLUMBUS      71558.000000\n",
       "Name: Total Flow, dtype: float64"
      ]
     },
     "execution_count": 129,
     "metadata": {},
     "output_type": "execute_result"
    }
   ],
   "source": [
    "sun = df1.loc[df1['Day']=='Sunday'].groupby('STATION')['Total Flow'].sum()\n",
    "sun.sort_values(ascending=False).head(10)"
   ]
  },
  {
   "cell_type": "code",
   "execution_count": null,
   "metadata": {},
   "outputs": [],
   "source": [
    "df2 = pd.read_csv('http://web.mta.info/developers/data/nyct/turnstile/turnstile_190511.txt')\n",
    "df3 = pd.read_csv('http://web.mta.info/developers/data/nyct/turnstile/turnstile_190518.txt')\n",
    "df4 = pd.read_csv('http://web.mta.info/developers/data/nyct/turnstile/turnstile_190525.txt')\n",
    "df5 = pd.read_csv('http://web.mta.info/developers/data/nyct/turnstile/turnstile_190601.txt')"
   ]
  }
 ],
 "metadata": {
  "kernelspec": {
   "display_name": "Python 3",
   "language": "python",
   "name": "python3"
  },
  "language_info": {
   "codemirror_mode": {
    "name": "ipython",
    "version": 3
   },
   "file_extension": ".py",
   "mimetype": "text/x-python",
   "name": "python",
   "nbconvert_exporter": "python",
   "pygments_lexer": "ipython3",
   "version": "3.8.3"
  }
 },
 "nbformat": 4,
 "nbformat_minor": 4
}
